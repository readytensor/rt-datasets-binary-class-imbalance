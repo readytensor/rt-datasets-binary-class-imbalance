{
 "cells": [
  {
   "cell_type": "markdown",
   "id": "9254a0e8",
   "metadata": {},
   "source": [
    "# N-dimensional X-OR Dataset\n",
    "\n",
    "This synthetic dataset is based on the n-dimensional XOR problem. Each sample in the dataset has an identifier, a set of n features (x1, x2, ..., xn), and a target class label.\n",
    "\n",
    "The features are continuous values drawn from a uniform distribution between 0 and 1. Each feature value is independent of the others. They are generated such that they are evenly distributed over the interval [0, 1].\n",
    "\n",
    "The class label for each sample is determined by the number of features in that sample which have values less than 0.5. If the number of features less than 0.5 is odd, the sample is labeled as Class 1. If the number of features less than 0.5 is even, the sample is labeled as Class 0. This creates an n-dimensional XOR classification problem.\n",
    "\n",
    "The identifiers for the samples are randomly generated alphanumeric strings. They are used to uniquely identify each sample in the dataset.\n",
    "\n",
    "In summary, this dataset presents an n-dimensional XOR problem, where the task is to classify samples based on whether the number of their features less than 0.5 is odd or even. The relationship between features and target would be unknown to us. This makes it a challenging task for binary classification algorithms, especially when the number of dimensions is high."
   ]
  },
  {
   "cell_type": "code",
   "execution_count": 18,
   "id": "e6694f84",
   "metadata": {},
   "outputs": [],
   "source": [
    "import numpy as np\n",
    "import pandas as pd\n",
    "import os\n",
    "import sys\n",
    "import random\n",
    "import string\n",
    "from math import cos, sin\n",
    "import matplotlib.pyplot as plt\n",
    "%matplotlib inline"
   ]
  },
  {
   "cell_type": "code",
   "execution_count": 19,
   "id": "fa552c96",
   "metadata": {},
   "outputs": [],
   "source": [
    "dataset_name = \"xor\""
   ]
  },
  {
   "cell_type": "code",
   "execution_count": 20,
   "id": "30bfb347",
   "metadata": {},
   "outputs": [],
   "source": [
    "output_dir = f'./../../processed/{dataset_name}/'\n",
    "outp_fname = os.path.join(output_dir, f'{dataset_name}.csv')\n",
    "outp_fig_fname = os.path.join(output_dir, f'{dataset_name}.png')"
   ]
  },
  {
   "cell_type": "markdown",
   "id": "381bcab1",
   "metadata": {},
   "source": [
    "# Generation functions"
   ]
  },
  {
   "cell_type": "code",
   "execution_count": 21,
   "id": "10a1060e",
   "metadata": {},
   "outputs": [],
   "source": [
    "def set_seed(seed_value=0):\n",
    "    np.random.seed(seed_value)\n",
    "    random.seed(seed_value)"
   ]
  },
  {
   "cell_type": "code",
   "execution_count": 22,
   "id": "95c7797a",
   "metadata": {},
   "outputs": [],
   "source": [
    "def generate_id(size=6, chars=string.ascii_uppercase + string.digits):\n",
    "    return ''.join(random.choice(chars) for _ in range(size))"
   ]
  },
  {
   "cell_type": "code",
   "execution_count": 23,
   "id": "fa42d952",
   "metadata": {},
   "outputs": [],
   "source": [
    "def generate_dataset_nd(num_samples, num_dimensions):\n",
    "    # Generate random feature values\n",
    "    features = np.random.rand(num_samples, num_dimensions)\n",
    "\n",
    "    # Apply the classification rules\n",
    "    less_than_half = np.sum(features < 0.5, axis=1)\n",
    "    classes = less_than_half % 2  # 0 if even, 1 if odd\n",
    "\n",
    "    # Create a DataFrame\n",
    "    feature_names = [f'x{i+1}' for i in range(num_dimensions)]\n",
    "    df = pd.DataFrame(features, columns=feature_names)\n",
    "    df.insert(0, \"id\",  [generate_id() for _ in range(num_samples)])\n",
    "    df.insert(1, \"target\",  classes)\n",
    "\n",
    "    return df"
   ]
  },
  {
   "cell_type": "markdown",
   "id": "cc8abe21",
   "metadata": {},
   "source": [
    "# Visualize for 2d case for Verification"
   ]
  },
  {
   "cell_type": "code",
   "execution_count": 24,
   "id": "87cc5c2d",
   "metadata": {},
   "outputs": [
    {
     "data": {
      "image/png": "[encoded data removed]",
      "text/plain": [
       "<Figure size 640x480 with 1 Axes>"
      ]
     },
     "metadata": {},
     "output_type": "display_data"
    }
   ],
   "source": [
    "# Verify it works for 2d case\n",
    "\n",
    "def plot_and_save_2d(df):\n",
    "#     Plot class 0\n",
    "    class_0 = df[df['target'] == 0]\n",
    "    plt.scatter(class_0['x1'], class_0['x2'], color='brown', label='Class 0')\n",
    "\n",
    "    # Plot class 1\n",
    "    class_1 = df[df['target'] == 1]\n",
    "    plt.scatter(class_1['x1'], class_1['x2'], color='yellow', label='Class 1')\n",
    "\n",
    "\n",
    "    # Set plot labels and legend\n",
    "    plt.xlabel('x1')\n",
    "    plt.ylabel('x2')\n",
    "    plt.legend()\n",
    "    plt.savefig(outp_fig_fname)\n",
    "    plt.show()\n",
    "\n",
    "# Generate a 2D XOR dataset\n",
    "df_2d = generate_dataset_nd(200, 2)\n",
    "\n",
    "# Plot the dataset\n",
    "plot_and_save_2d(df_2d)\n"
   ]
  },
  {
   "cell_type": "markdown",
   "id": "0b296cb4",
   "metadata": {},
   "source": [
    "# Create 5d XOR Data"
   ]
  },
  {
   "cell_type": "code",
   "execution_count": 25,
   "id": "7a57b51d",
   "metadata": {},
   "outputs": [
    {
     "data": {
      "text/html": [
       "<div>\n",
       "<style scoped>\n",
       "    .dataframe tbody tr th:only-of-type {\n",
       "        vertical-align: middle;\n",
       "    }\n",
       "\n",
       "    .dataframe tbody tr th {\n",
       "        vertical-align: top;\n",
       "    }\n",
       "\n",
       "    .dataframe thead th {\n",
       "        text-align: right;\n",
       "    }\n",
       "</style>\n",
       "<table border=\"1\" class=\"dataframe\">\n",
       "  <thead>\n",
       "    <tr style=\"text-align: right;\">\n",
       "      <th></th>\n",
       "      <th>id</th>\n",
       "      <th>target</th>\n",
       "      <th>x1</th>\n",
       "      <th>x2</th>\n",
       "      <th>x3</th>\n",
       "      <th>x4</th>\n",
       "      <th>x5</th>\n",
       "    </tr>\n",
       "  </thead>\n",
       "  <tbody>\n",
       "    <tr>\n",
       "      <th>0</th>\n",
       "      <td>MRSGHT</td>\n",
       "      <td>0</td>\n",
       "      <td>0.817923</td>\n",
       "      <td>0.551046</td>\n",
       "      <td>0.419775</td>\n",
       "      <td>0.098692</td>\n",
       "      <td>0.811021</td>\n",
       "    </tr>\n",
       "    <tr>\n",
       "      <th>1</th>\n",
       "      <td>T6LKCN</td>\n",
       "      <td>1</td>\n",
       "      <td>0.967356</td>\n",
       "      <td>0.098207</td>\n",
       "      <td>0.801860</td>\n",
       "      <td>0.604902</td>\n",
       "      <td>0.584769</td>\n",
       "    </tr>\n",
       "    <tr>\n",
       "      <th>2</th>\n",
       "      <td>66JLUA</td>\n",
       "      <td>0</td>\n",
       "      <td>0.493088</td>\n",
       "      <td>0.476750</td>\n",
       "      <td>0.263968</td>\n",
       "      <td>0.309604</td>\n",
       "      <td>0.907954</td>\n",
       "    </tr>\n",
       "    <tr>\n",
       "      <th>3</th>\n",
       "      <td>6IQVT4</td>\n",
       "      <td>1</td>\n",
       "      <td>0.184985</td>\n",
       "      <td>0.188239</td>\n",
       "      <td>0.088390</td>\n",
       "      <td>0.874215</td>\n",
       "      <td>0.642408</td>\n",
       "    </tr>\n",
       "    <tr>\n",
       "      <th>4</th>\n",
       "      <td>V9VNFH</td>\n",
       "      <td>0</td>\n",
       "      <td>0.852825</td>\n",
       "      <td>0.533060</td>\n",
       "      <td>0.879402</td>\n",
       "      <td>0.293400</td>\n",
       "      <td>0.427836</td>\n",
       "    </tr>\n",
       "  </tbody>\n",
       "</table>\n",
       "</div>"
      ],
      "text/plain": [
       "       id  target        x1        x2        x3        x4        x5\n",
       "0  MRSGHT       0  0.817923  0.551046  0.419775  0.098692  0.811021\n",
       "1  T6LKCN       1  0.967356  0.098207  0.801860  0.604902  0.584769\n",
       "2  66JLUA       0  0.493088  0.476750  0.263968  0.309604  0.907954\n",
       "3  6IQVT4       1  0.184985  0.188239  0.088390  0.874215  0.642408\n",
       "4  V9VNFH       0  0.852825  0.533060  0.879402  0.293400  0.427836"
      ]
     },
     "execution_count": 25,
     "metadata": {},
     "output_type": "execute_result"
    }
   ],
   "source": [
    "set_seed(seed_value=314159)\n",
    "data = generate_dataset_nd(6000, 5)\n",
    "data.head()"
   ]
  },
  {
   "cell_type": "markdown",
   "id": "29319a2b",
   "metadata": {},
   "source": [
    "# Save Main Data File"
   ]
  },
  {
   "cell_type": "code",
   "execution_count": 26,
   "id": "4caae6e7",
   "metadata": {},
   "outputs": [],
   "source": [
    "data.to_csv(outp_fname, index=False, float_format=\"%.4f\")"
   ]
  },
  {
   "cell_type": "code",
   "execution_count": 27,
   "id": "9137d791",
   "metadata": {},
   "outputs": [
    {
     "data": {
      "text/plain": [
       "(6000, 7)"
      ]
     },
     "execution_count": 27,
     "metadata": {},
     "output_type": "execute_result"
    }
   ],
   "source": [
    "data.shape"
   ]
  }
 ],
 "metadata": {
  "kernelspec": {
   "display_name": "Python 3 (ipykernel)",
   "language": "python",
   "name": "python3"
  },
  "language_info": {
   "codemirror_mode": {
    "name": "ipython",
    "version": 3
   },
   "file_extension": ".py",
   "mimetype": "text/x-python",
   "name": "python",
   "nbconvert_exporter": "python",
   "pygments_lexer": "ipython3",
   "version": "3.9.13"
  }
 },
 "nbformat": 4,
 "nbformat_minor": 5
}
